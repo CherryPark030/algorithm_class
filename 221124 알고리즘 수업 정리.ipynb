{
 "cells": [
  {
   "cell_type": "markdown",
   "id": "46701429",
   "metadata": {},
   "source": [
    "# 자료구조와 알고리즘"
   ]
  },
  {
   "cell_type": "markdown",
   "id": "0580f725",
   "metadata": {},
   "source": [
    "* 자료구조 : 요리의 재료 + 다듬는 법, 자료를 효율적으로 관리하는 방법\n",
    "* 알고리즘 : 요리법, 목적지까지 최적의 이동경로를 찾는 방법\n",
    "* 자료구조의 종류\n",
    "    * 단순 자료구조 : 정수, 실수, 문자 문자열\n",
    "    * 파일 자료구조 : 순차파일, 색인파일, 직접 파일 (단순 자료구조와 파일 자료구조는 프로그래밍 언어에서 다루기에 자료구조에서는 선형 / 비선형만 배우면 됨)\n",
    "    * 선형 자료구조\n",
    "        * 리스트\n",
    "        * 스택\n",
    "        * 큐\n",
    "    * 비선형 자료구조\n",
    "        * 트리\n",
    "        * 그래프\n"
   ]
  },
  {
   "cell_type": "markdown",
   "id": "1d4a04a2",
   "metadata": {},
   "source": [
    "## 1. 선형리스트\n",
    "* 데이터를 일정한 순서로 나열한 자료구조\n",
    "* 순차 리스트라고 함\n",
    "* 입력 순서대로 지정하는 데이터에 적당함\n",
    "* 데이터는 붙어있으며, 빈칸을 허용하지 않음\n",
    "* 단점 : 데이터의 삽입/삭제 시 오버헤드 발생\n",
    "    * 삽입 / 삭제가 별로 없는 데이터에 많이 사용됨 \n",
    "* 장점 : 데이터의 공간 낭비가 없고 접근이 빠름"
   ]
  },
  {
   "cell_type": "code",
   "execution_count": 22,
   "id": "2619ad00",
   "metadata": {},
   "outputs": [
    {
     "name": "stdout",
     "output_type": "stream",
     "text": [
      "['다현', '정연', '쯔위', '사나', '지효']\n"
     ]
    }
   ],
   "source": [
    "##데이터가 5개인 선형 리스트 생성\n",
    "##카톡이 온 횟수대로 데이터 저장\n",
    "katok = ['다현', '정연', '쯔위', '사나', '지효']\n",
    "print(katok)"
   ]
  },
  {
   "cell_type": "code",
   "execution_count": 23,
   "id": "c492b892",
   "metadata": {},
   "outputs": [
    {
     "name": "stdout",
     "output_type": "stream",
     "text": [
      "다현\n",
      "지효\n"
     ]
    }
   ],
   "source": [
    "print(katok[0]) #가장 많이 카톡을 보낸 사람, 1등이 아닌 특등으로 지정\n",
    "print(katok[4]) #가장 적게 카톡을 보낸 사람"
   ]
  },
  {
   "cell_type": "markdown",
   "id": "f12f1498",
   "metadata": {},
   "source": [
    "### 데이터 추가"
   ]
  },
  {
   "cell_type": "code",
   "execution_count": 24,
   "id": "8be09528",
   "metadata": {},
   "outputs": [
    {
     "name": "stdout",
     "output_type": "stream",
     "text": [
      "['다현', '정연', '쯔위', '사나', '지효', '모모']\n"
     ]
    }
   ],
   "source": [
    "##데이터 추가\n",
    "#1. 선형 리스트에 빈칸을 추가\n",
    "katok.append(None)\n",
    "#2. 추가한 빈칸에 모모(새로 추가할 데이터) 데이터를 삽입\n",
    "katok[-1] = '모모'\n",
    "#3. 결과 확인하기\n",
    "print(katok)"
   ]
  },
  {
   "cell_type": "markdown",
   "id": "2a943ced",
   "metadata": {},
   "source": [
    "### 데이터 삽입"
   ]
  },
  {
   "cell_type": "code",
   "execution_count": 25,
   "id": "fe650e82",
   "metadata": {},
   "outputs": [
    {
     "data": {
      "text/plain": [
       "7"
      ]
     },
     "execution_count": 25,
     "metadata": {},
     "output_type": "execute_result"
    }
   ],
   "source": [
    "##데이터 삽입 (중간에 삽입)\n",
    "#'미나' 데이터를 3등 자리에 삽입하기\n",
    "#1. 빈칸을 추가\n",
    "katok.append(None)\n",
    "len(katok)"
   ]
  },
  {
   "cell_type": "code",
   "execution_count": 26,
   "id": "088d9024",
   "metadata": {},
   "outputs": [
    {
     "name": "stdout",
     "output_type": "stream",
     "text": [
      "['다현', '정연', '쯔위', '미나', '사나', '지효', '모모']\n"
     ]
    }
   ],
   "source": [
    "#2. 3등 데이터 자리가 빈칸이 될때까지 각 값을 한 자리씩 뒤로 미룬다\n",
    "katok[6] = katok[5]\n",
    "katok[5] = None\n",
    "\n",
    "katok[5] = katok[4]\n",
    "katok[4] = None\n",
    "\n",
    "katok[4] = katok[3]\n",
    "katok[3] = None\n",
    "\n",
    "\n",
    "#3. 3등 데이터 자리가 비면 그 자리에 미나 데이터를 삽입하기\n",
    "katok[3] = '미나'\n",
    "print(katok)"
   ]
  },
  {
   "cell_type": "markdown",
   "id": "29a1de2a",
   "metadata": {},
   "source": [
    "### 데이터 삭제"
   ]
  },
  {
   "cell_type": "code",
   "execution_count": 27,
   "id": "bd098abf",
   "metadata": {},
   "outputs": [
    {
     "name": "stdout",
     "output_type": "stream",
     "text": [
      "['다현', '정연', '쯔위', '미나', None, '지효', '모모']\n"
     ]
    }
   ],
   "source": [
    "##데이터 삭제 (중간 데이터 삭제), 4등 '사나' 삭제하기\n",
    "#1. 삭제하고자 하는 자리의 데이터를 삭제하고 빈칸으로 만든다\n",
    "katok[4] = None\n",
    "print(katok)"
   ]
  },
  {
   "cell_type": "code",
   "execution_count": 28,
   "id": "71f8a39f",
   "metadata": {},
   "outputs": [
    {
     "name": "stdout",
     "output_type": "stream",
     "text": [
      "['다현', '정연', '쯔위', '미나', '지효', '모모', None]\n"
     ]
    }
   ],
   "source": [
    "#2. 빈칸을 없애기 위해 빈칸 뒤에 있는 데이터를 모두 한 칸씩 앞으로 옮긴다.\n",
    "katok[4] = katok[5]\n",
    "katok[5] = None\n",
    "\n",
    "katok[5] = katok[6]\n",
    "katok[6] = None\n",
    "\n",
    "print(katok)"
   ]
  },
  {
   "cell_type": "code",
   "execution_count": 29,
   "id": "fef8c5d8",
   "metadata": {},
   "outputs": [
    {
     "name": "stdout",
     "output_type": "stream",
     "text": [
      "['다현', '정연', '쯔위', '미나', '지효', '모모']\n"
     ]
    }
   ],
   "source": [
    "#3. 마지막 자리에 남는 빈칸 하나를 삭제한다.\n",
    "del(katok[6])\n",
    "print(katok)"
   ]
  },
  {
   "cell_type": "markdown",
   "id": "f0041e96",
   "metadata": {},
   "source": [
    "### 배열을 이용한 선형 리스트의 생성"
   ]
  },
  {
   "cell_type": "code",
   "execution_count": 36,
   "id": "58a40701",
   "metadata": {},
   "outputs": [
    {
     "name": "stdout",
     "output_type": "stream",
     "text": [
      "['다현']\n"
     ]
    }
   ],
   "source": [
    "# 배열 생성\n",
    "katok = []\n",
    "\n",
    "# 첫번째 데이터 입력\n",
    "katok.append(None)\n",
    "katok_len = len(katok)\n",
    "katok[katok_len-1] = '다현' #새로운 데이터 입력\n",
    "print(katok)"
   ]
  },
  {
   "cell_type": "code",
   "execution_count": 37,
   "id": "5faca9b5",
   "metadata": {},
   "outputs": [
    {
     "name": "stdout",
     "output_type": "stream",
     "text": [
      "['다현', '정연']\n"
     ]
    }
   ],
   "source": [
    "# 두번째 데이터 입력\n",
    "katok.append(None) # 데이터가 들어갈 빈 칸을 만듦\n",
    "katok_len = len(katok) #배열의 길이 확인\n",
    "katok[katok_len - 1] = '정연' #배열의 마지막 자리에 데이터 입력\n",
    "print(katok)"
   ]
  },
  {
   "cell_type": "code",
   "execution_count": 38,
   "id": "39f906b2",
   "metadata": {},
   "outputs": [
    {
     "name": "stdout",
     "output_type": "stream",
     "text": [
      "['다현', '쯔위', '사나', '지효', '정연']\n"
     ]
    }
   ],
   "source": [
    "###함수로 선형리스트 생성 구현하기\n",
    "katok = []\n",
    "def add_data(data):\n",
    "    katok.append(None)\n",
    "    katok_len = len(katok)\n",
    "    katok[katok_len - 1] = data\n",
    "\n",
    "add_data('다현')\n",
    "add_data('쯔위')\n",
    "add_data('사나')\n",
    "add_data('지효')\n",
    "add_data('정연')\n",
    "\n",
    "print(katok)"
   ]
  },
  {
   "cell_type": "markdown",
   "id": "036caf46",
   "metadata": {},
   "source": [
    "### 선형리스트 일반구현 : 데이터 삽입 (중간데이터 삽입)"
   ]
  },
  {
   "cell_type": "code",
   "execution_count": 39,
   "id": "bdfd7ce7",
   "metadata": {},
   "outputs": [
    {
     "data": {
      "text/plain": [
       "['다현', '쯔위', '사나', '지효', '정연']"
      ]
     },
     "execution_count": 39,
     "metadata": {},
     "output_type": "execute_result"
    }
   ],
   "source": [
    "katok"
   ]
  },
  {
   "cell_type": "code",
   "execution_count": 40,
   "id": "23a73868",
   "metadata": {},
   "outputs": [
    {
     "name": "stdout",
     "output_type": "stream",
     "text": [
      "['다현', '쯔위', '사나', '지효', '정연', None]\n"
     ]
    }
   ],
   "source": [
    "#2등 자리에 '솔라' 데이터 넣기\n",
    "#빈 칸 생성\n",
    "katok.append(None)\n",
    "print(katok)"
   ]
  },
  {
   "cell_type": "code",
   "execution_count": 41,
   "id": "b0f6fab6",
   "metadata": {},
   "outputs": [
    {
     "name": "stdout",
     "output_type": "stream",
     "text": [
      "['다현', '쯔위', '솔라', '사나', '지효', '정연']\n"
     ]
    }
   ],
   "source": [
    "#2등 자리가 빈 칸이 될 때까지 한 칸씩 뒤로 미루기\n",
    "katok_len = len(katok)\n",
    "position = 2\n",
    "for i in range(katok_len-1, position, -1): #해당 배열의 마지막 위치 katok_len - 1 에서 목표 위치 position 까지 역순으로 range 실행\n",
    "    katok[i] = katok[i-1] #한 칸씩 뒤로 밀리기\n",
    "    katok[i-1] = None #마지막에 katok[positon] = None이 되어 해당 position은 빈 칸이 된다.\n",
    "\n",
    "katok[position] = '솔라'\n",
    "print(katok)\n",
    "    "
   ]
  },
  {
   "cell_type": "markdown",
   "id": "16d35181",
   "metadata": {},
   "source": [
    "### 선형 리스트 일반구현 : 데이터 삽입 (맨 끝에 삽입)"
   ]
  },
  {
   "cell_type": "code",
   "execution_count": 42,
   "id": "d524bae0",
   "metadata": {},
   "outputs": [],
   "source": [
    "#맨 끝에 '문별' 데이터 삽입하기\n",
    "#맨 끝에 빈 칸 추가\n",
    "katok.append(None)\n",
    "\n",
    "katok_len = len(katok)"
   ]
  },
  {
   "cell_type": "code",
   "execution_count": 45,
   "id": "7a032579",
   "metadata": {},
   "outputs": [
    {
     "name": "stdout",
     "output_type": "stream",
     "text": [
      "['다현', '쯔위', '솔라', '사나', '지효', '정연', '문별']\n"
     ]
    }
   ],
   "source": [
    "position = katok_len - 1 #마지막 칸 위치\n",
    "\n",
    "#빈 칸에 데이터 삽입하기\n",
    "for i in range(katok_len-1, position, -1): #katok_len = position 이기에 작동하지 않음\n",
    "    katok[i] = katok[i-1] \n",
    "    katok[i-1] = None \n",
    "katok[-1] = '문별'\n",
    "\n",
    "print(katok)"
   ]
  },
  {
   "cell_type": "markdown",
   "id": "a955208c",
   "metadata": {},
   "source": [
    "### 함수로 선형리스트 데이터 삽입 구현하기"
   ]
  },
  {
   "cell_type": "code",
   "execution_count": 47,
   "id": "c9ca936a",
   "metadata": {},
   "outputs": [
    {
     "name": "stdout",
     "output_type": "stream",
     "text": [
      "['다현', '쯔위', '솔라', '휘인', '사나', '지효', '정연', '문별']\n",
      "['다현', '쯔위', '솔라', '화사', '휘인', '사나', '지효', '정연', '문별']\n"
     ]
    }
   ],
   "source": [
    "def insert_data(position, friend):\n",
    "    if position <0 or position > len(katok):\n",
    "        print('데이터를 삽입할 범위를 벗어났습니다.')\n",
    "        return\n",
    "    \n",
    "    katok.append(None) #빈칸 추가\n",
    "    katok_len = len(katok) #배열의 전체 크기\n",
    "    \n",
    "    for i in range(katok_len - 1, position, -1):\n",
    "        katok[i] = katok[i-1]\n",
    "        katok[i-1] = None\n",
    "        #목표위치가 빈칸이 될 때까지 한 칸씩 뒤로 옮기기\n",
    "    \n",
    "    katok[position] = friend #빈칸이 된 목표위치에 원하는 데이터 입력하기\n",
    "    \n",
    "insert_data(3, '휘인')\n",
    "print(katok)\n",
    "insert_data(3, '화사')\n",
    "print(katok)"
   ]
  },
  {
   "cell_type": "markdown",
   "id": "5554f691",
   "metadata": {},
   "source": [
    "### 선형 리스트의 일반 구현 : 데이터 삭제 (중간 데이터 삭제)"
   ]
  },
  {
   "cell_type": "code",
   "execution_count": 72,
   "id": "103af495",
   "metadata": {},
   "outputs": [
    {
     "name": "stdout",
     "output_type": "stream",
     "text": [
      "['다현', '쯔위', '솔라', None, '휘인', '사나', '지효', '정연', '문별']\n"
     ]
    }
   ],
   "source": [
    "katok = ['다현', '쯔위', '솔라', '화사', '휘인', '사나', '지효', '정연', '문별']\n",
    "\n",
    "#목표 위치 데이터 빈칸으로 만들기\n",
    "position = 3\n",
    "katok[position] = None\n",
    "print(katok)"
   ]
  },
  {
   "cell_type": "code",
   "execution_count": 73,
   "id": "f67afc49",
   "metadata": {},
   "outputs": [
    {
     "name": "stdout",
     "output_type": "stream",
     "text": [
      "['다현', '쯔위', '솔라', '휘인', '사나', '지효', '정연', '문별', None]\n"
     ]
    }
   ],
   "source": [
    "katok_len = len(katok)\n",
    "\n",
    "#한 칸씩 앞으로 옮기기\n",
    "for i in range(position + 1, katok_len):\n",
    "    katok[i-1] = katok[i]\n",
    "    katok[i] = None\n",
    "\n",
    "print(katok)"
   ]
  },
  {
   "cell_type": "code",
   "execution_count": 74,
   "id": "3e175308",
   "metadata": {},
   "outputs": [
    {
     "name": "stdout",
     "output_type": "stream",
     "text": [
      "['다현', '쯔위', '솔라', '휘인', '사나', '지효', '정연', '문별']\n"
     ]
    }
   ],
   "source": [
    "#맨 뒤에 남은 빈칸 삭제하기\n",
    "del(katok[-1])\n",
    "print(katok)"
   ]
  },
  {
   "cell_type": "markdown",
   "id": "7cf1362d",
   "metadata": {},
   "source": [
    "#### 선형 리스트의 일반 구현 : 데이터 삭제 (마지막 데이터 삭제)"
   ]
  },
  {
   "cell_type": "code",
   "execution_count": 88,
   "id": "a73c3b92",
   "metadata": {},
   "outputs": [
    {
     "name": "stdout",
     "output_type": "stream",
     "text": [
      "7\n"
     ]
    }
   ],
   "source": [
    "katok = ['다현', '쯔위', '솔라', '휘인', '사나', '지효', '정연', '문별']\n",
    "katok_len = len(katok)\n",
    "position = len(katok) - 1\n",
    "\n",
    "print(position)"
   ]
  },
  {
   "cell_type": "code",
   "execution_count": 89,
   "id": "7d413c9f",
   "metadata": {},
   "outputs": [
    {
     "name": "stdout",
     "output_type": "stream",
     "text": [
      "['다현', '쯔위', '솔라', '휘인', '사나', '지효', '정연', None]\n"
     ]
    }
   ],
   "source": [
    "katok[position] = None\n",
    "print(katok)"
   ]
  },
  {
   "cell_type": "code",
   "execution_count": 90,
   "id": "a34e6f0a",
   "metadata": {},
   "outputs": [
    {
     "name": "stdout",
     "output_type": "stream",
     "text": [
      "['다현', '쯔위', '솔라', '휘인', '사나', '지효', '정연', None]\n"
     ]
    }
   ],
   "source": [
    "for i in range(position+1, katok_len):\n",
    "    katok[i-1] = katok[i]\n",
    "    katok[i] = None\n",
    "\n",
    "print(katok)"
   ]
  },
  {
   "cell_type": "code",
   "execution_count": 91,
   "id": "f13c43f6",
   "metadata": {},
   "outputs": [
    {
     "name": "stdout",
     "output_type": "stream",
     "text": [
      "['다현', '쯔위', '솔라', '휘인', '사나', '지효', '정연']\n"
     ]
    }
   ],
   "source": [
    "del(katok[-1])\n",
    "print(katok)"
   ]
  },
  {
   "cell_type": "markdown",
   "id": "f70a0ee7",
   "metadata": {},
   "source": [
    "#### "
   ]
  },
  {
   "cell_type": "markdown",
   "id": "949d6e04",
   "metadata": {},
   "source": [
    "#### 선형 리스트의 일반 구현 데이터 삭제, 함수로 구현하기"
   ]
  },
  {
   "cell_type": "code",
   "execution_count": 92,
   "id": "0df3c7d9",
   "metadata": {},
   "outputs": [
    {
     "name": "stdout",
     "output_type": "stream",
     "text": [
      "['다현', '쯔위', '솔라', '사나', '지효', '정연', '문별']\n",
      "['다현', '쯔위', '솔라', '지효', '정연', '문별']\n"
     ]
    }
   ],
   "source": [
    "def delete_data(position):\n",
    "    katok[position] = None #postion 위치 데이터 삭제하기\n",
    "    k_len = len(katok)\n",
    "    \n",
    "    for i in range(position + 1, k_len):\n",
    "        katok[i-1] = katok[i] #한칸씩 앞으로 옮기기\n",
    "        katok[i] = None \n",
    "    \n",
    "    del(katok[-1])\n",
    "\n",
    "\n",
    "katok = ['다현', '쯔위', '솔라', '휘인', '사나', '지효', '정연', '문별']\n",
    "delete_data(3)\n",
    "print(katok)\n",
    "delete_data(3)\n",
    "print(katok)"
   ]
  },
  {
   "cell_type": "markdown",
   "id": "013cf801",
   "metadata": {},
   "source": [
    "### 선형 리스트 데이터 추가/ 삽입/ 삭제 함수의 완성"
   ]
  },
  {
   "cell_type": "code",
   "execution_count": 96,
   "id": "48626629",
   "metadata": {},
   "outputs": [
    {
     "name": "stdout",
     "output_type": "stream",
     "text": [
      "선택하세요(1:추가, 2:삽입, 3:삭제, 4:종료)-->1\n",
      "추가할 친구 이름을 입력하세요 :다현\n",
      "['다현']\n",
      "선택하세요(1:추가, 2:삽입, 3:삭제, 4:종료)-->1\n",
      "추가할 친구 이름을 입력하세요 :정연\n",
      "['다현', '정연']\n",
      "선택하세요(1:추가, 2:삽입, 3:삭제, 4:종료)-->1\n",
      "추가할 친구 이름을 입력하세요 :쯔위\n",
      "['다현', '정연', '쯔위']\n",
      "선택하세요(1:추가, 2:삽입, 3:삭제, 4:종료)-->2\n",
      "입력할 위치를 입력하세요. 순서는 0부터 시작입니다.:1\n",
      "삽입할 친구 이름을 입력하세요 :하나\n",
      "['다현', '하나', '정연', '쯔위']\n",
      "선택하세요(1:추가, 2:삽입, 3:삭제, 4:종료)-->2\n",
      "입력할 위치를 입력하세요. 순서는 0부터 시작입니다.:0\n",
      "삽입할 친구 이름을 입력하세요 :문별\n",
      "['문별', '다현', '하나', '정연', '쯔위']\n",
      "선택하세요(1:추가, 2:삽입, 3:삭제, 4:종료)-->3\n",
      "삭제할 위치를 입력하세요. 순서는 0부터 시작입니다.:3\n",
      "['문별', '다현', '하나', '쯔위']\n",
      "선택하세요(1:추가, 2:삽입, 3:삭제, 4:종료)-->4\n",
      "['문별', '다현', '하나', '쯔위']\n"
     ]
    }
   ],
   "source": [
    "###함수 선언부\n",
    "def add_data(friend):\n",
    "    katok.append(None)\n",
    "    katok_len = len(katok)\n",
    "    katok[katok_len - 1] = friend\n",
    "\n",
    "def insert_data(position, friend):\n",
    "    if position <0 or position > len(katok):\n",
    "        print('데이터를 삽입할 범위를 벗어났습니다.')\n",
    "        return\n",
    "    \n",
    "    katok.append(None) #빈칸 추가\n",
    "    katok_len = len(katok) #배열의 전체 크기\n",
    "    \n",
    "    for i in range(katok_len - 1, position, -1):\n",
    "        katok[i] = katok[i-1]\n",
    "        katok[i-1] = None\n",
    "        #목표위치가 빈칸이 될 때까지 한 칸씩 뒤로 옮기기\n",
    "    \n",
    "    katok[position] = friend #빈칸이 된 목표위치에 원하는 데이터 입력하기    \n",
    "\n",
    "def delete_data(position):\n",
    "    katok[position] = None #postion 위치 데이터 삭제하기\n",
    "    katok_len = len(katok)\n",
    "    \n",
    "    for i in range(position + 1, katok_len):\n",
    "        katok[i-1] = katok[i] #한칸씩 앞으로 옮기기\n",
    "        katok[i] = None \n",
    "    \n",
    "    del(katok[-1])\n",
    "    \n",
    "###변수 선언부\n",
    "katok = []\n",
    "select = -1\n",
    "\n",
    "###메인 코드 부분\n",
    "if __name__ == \"__main__\":\n",
    "    while (select != 4):\n",
    "        select = int(input(\"선택하세요(1:추가, 2:삽입, 3:삭제, 4:종료)-->\"))\n",
    "        if (select == 1):\n",
    "            friend = input('추가할 친구 이름을 입력하세요 :')\n",
    "            add_data(friend)\n",
    "            print(katok)\n",
    "        \n",
    "        elif (select == 2):\n",
    "            position = int(input(\"입력할 위치를 입력하세요. 순서는 0부터 시작입니다.:\"))\n",
    "            friend = input(\"삽입할 친구 이름을 입력하세요 :\")\n",
    "            insert_data(position, friend)\n",
    "            print(katok)\n",
    "            \n",
    "        elif (select == 3):\n",
    "            position = int(input('삭제할 위치를 입력하세요. 순서는 0부터 시작입니다.:'))\n",
    "            delete_data(position)\n",
    "            print(katok)\n",
    "        \n",
    "        elif (select == 4):\n",
    "            print(katok)\n",
    "            exit\n",
    "        \n",
    "        else:\n",
    "            print('1~4 중 하나를 입력하세요')\n",
    "            continue\n",
    "            "
   ]
  },
  {
   "cell_type": "code",
   "execution_count": null,
   "id": "eae36e2f",
   "metadata": {},
   "outputs": [],
   "source": []
  }
 ],
 "metadata": {
  "kernelspec": {
   "display_name": "Python 3",
   "language": "python",
   "name": "python3"
  },
  "language_info": {
   "codemirror_mode": {
    "name": "ipython",
    "version": 3
   },
   "file_extension": ".py",
   "mimetype": "text/x-python",
   "name": "python",
   "nbconvert_exporter": "python",
   "pygments_lexer": "ipython3",
   "version": "3.8.8"
  }
 },
 "nbformat": 4,
 "nbformat_minor": 5
}
