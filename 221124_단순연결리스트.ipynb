{
 "cells": [
  {
   "cell_type": "markdown",
   "id": "b563d1da",
   "metadata": {},
   "source": [
    "* 자료구조\n",
    "* 선형 자료구조\n",
    "    * 리스트\n",
    "    * 단순 연결 리스트 : 방문할 맛집을 지도에 순서대로 연결한 것처럼, 떨어진 곳에 위치한 데이터를 화살표로 연결한 것\n",
    "    * 특징\n",
    "        * 노드들이 물리적으로 떨어진 곳에 위치함\n",
    "        * 각 노드의 번지도 순차적이지 않음\n",
    "        * 화살표로 표시된 연결(링크, link)를 따라가면 선형 리스트 순서와 같음 (개념적으로는 붙어있다)\n",
    "        * 데이터 삽입/삭제 시 <br>\n",
    "            선형 리스트는 많은 작업이 필요 (오버헤드 발생) <br>\n",
    "            단순 연결 리스트는 해당 노드의 앞뒤 링크만 수정해주면 되므로 오버헤드가 거의 발생하지 않음\n",
    "            * 오버헤드란? <br>\n",
    "                어떤 처리를 하기 위해 들어가는 간접적인 처리 시간, 메모리 등을 의미함 <br>\n",
    "                원소들의 이동 작업으로 인해 생기는 연산 작업들이 많이 발생하면 성능 상의 문제가 발생\n",
    "                \n",
    "    * 노드 구조 : 데이터 + 링크(다음 데이터를 가리키는 것)\n",
    "    * head : 첫번째 노드를 의미\n",
    "            \n",
    "            \n",
    "    "
   ]
  },
  {
   "cell_type": "markdown",
   "id": "4890a999",
   "metadata": {},
   "source": [
    "# 단순 연결 리스트의 기본\n",
    "* 노드 데이터 삽입\n",
    "1. 새 노드 생성\n",
    "2. 링크 수정\n",
    "\n",
    "* 노드 데이터 삭제\n",
    "1. 링크 수정\n",
    "2. 노드 삭제"
   ]
  },
  {
   "cell_type": "markdown",
   "id": "2b17be57",
   "metadata": {},
   "source": [
    "## 노드 생성과 연결 구현하기"
   ]
  },
  {
   "cell_type": "code",
   "execution_count": 16,
   "id": "3bea5f46",
   "metadata": {},
   "outputs": [
    {
     "name": "stdout",
     "output_type": "stream",
     "text": [
      "다현 "
     ]
    }
   ],
   "source": [
    "class Node(): #노드라는 데이터 형 생성\n",
    "    def __init__(self): #데이터 형을 생성할 때 자동으로 실행되는 부분\n",
    "        self.data = None #데이터 저장\n",
    "        self.link = None #링크 저장\n",
    "        \n",
    "node1 = Node() #새로운 노드 생성\n",
    "node1.data = '다현' #생성된 노드에 데이터 입력\n",
    "print(node1.data, end=' ') #출력"
   ]
  },
  {
   "cell_type": "code",
   "execution_count": 17,
   "id": "067e7304",
   "metadata": {},
   "outputs": [],
   "source": [
    "#노드 연결\n",
    "node2 = Node()\n",
    "node2.data = '정연'\n",
    "node1.link = node2 #첫번째 노드의 링크에 두 번째 노드를 넣어 연결함"
   ]
  },
  {
   "cell_type": "markdown",
   "id": "aef43de0",
   "metadata": {},
   "source": [
    "### 데이터가 5개인 단순 연결 리스트 생성"
   ]
  },
  {
   "cell_type": "code",
   "execution_count": 18,
   "id": "1dfc3a19",
   "metadata": {},
   "outputs": [
    {
     "name": "stdout",
     "output_type": "stream",
     "text": [
      "다현 정연 쯔위 사나 지효 "
     ]
    }
   ],
   "source": [
    "class Node():\n",
    "    def __init__(self):\n",
    "        self.data = None\n",
    "        self.link = None\n",
    "        \n",
    "node1 = Node()\n",
    "node1.data = '다현'\n",
    "\n",
    "node2 = Node()\n",
    "node2.data = '정연'\n",
    "node1.link = node2 #node1을 node2와 연결하기\n",
    "\n",
    "node3 = Node()\n",
    "node3.data = '쯔위'\n",
    "node2.link = node3\n",
    "\n",
    "node4 = Node()\n",
    "node4.data = '사나'\n",
    "node3.link = node4\n",
    "\n",
    "node5 = Node()\n",
    "node5.data = '지효'\n",
    "node4.link = node5\n",
    "\n",
    "print(node1.data, end=' ')\n",
    "print(node1.link.data, end=' ')\n",
    "print(node1.link.link.data, end=' ')\n",
    "print(node1.link.link.link.data, end=' ')\n",
    "print(node1.link.link.link.link.data, end=' ')"
   ]
  },
  {
   "cell_type": "code",
   "execution_count": 19,
   "id": "05338d6a",
   "metadata": {},
   "outputs": [],
   "source": [
    "#노드를 처음부터 끝까지 출력하는 함수로 작성하기\n",
    "#현재 노드를 current로 지정하고, 링크가 비어있지 않다면 현재 노드를 링크가 가리키는 노드로 변경한 후 데이터를 출력하고 current의 링크가 비어있으면 종료함"
   ]
  },
  {
   "cell_type": "code",
   "execution_count": 20,
   "id": "847ea054",
   "metadata": {},
   "outputs": [
    {
     "name": "stdout",
     "output_type": "stream",
     "text": [
      "다현 정연 쯔위 사나 지효 "
     ]
    }
   ],
   "source": [
    "current = node1 #첫번째 노드를 current에 저장함\n",
    "print(current.data, end = ' ')\n",
    "while current.link != None: #current.link 가 None이 아닐때까지 while문 반복\n",
    "    current  = current.link #current.link를 current로 지정하며 연결된 노드를 current로 저장\n",
    "    print(current.data, end = ' ') #current로 저장된 노드의 데이터 출력\n",
    "    "
   ]
  },
  {
   "cell_type": "markdown",
   "id": "cdbb3d19",
   "metadata": {},
   "source": [
    "### 중간에 데이터 삽입 : 노드 삽입\n",
    "1. 새 노드를 생성하고 데이터를 입력\n",
    "2. 새노드의 링크에 삽입하고자 하는 위치의 앞쪽 노드의 링크를 새 노드의 링크에 복사\n",
    "3. 새 노드의 왼쪽에 있는 노드의 링크에 새로운 노드를 저장"
   ]
  },
  {
   "cell_type": "code",
   "execution_count": 21,
   "id": "b77d5384",
   "metadata": {},
   "outputs": [
    {
     "name": "stdout",
     "output_type": "stream",
     "text": [
      "다현 정연 재남 쯔위 사나 지효 "
     ]
    }
   ],
   "source": [
    "newNode = Node() #새 노드 생성\n",
    "newNode.data = '재남'\n",
    "newNode.link = node2.link #node2 와 node3 사이 새로운 노드 삽입하기\n",
    "node2.link = newNode\n",
    "\n",
    "current = node1 #첫번째 노드를 current에 저장함\n",
    "print(current.data, end = ' ')\n",
    "while current.link != None: #current.link 가 None이 아닐때까지 while문 반복\n",
    "    current  = current.link #current.link를 current로 지정하며 연결된 노드를 current로 저장\n",
    "    print(current.data, end = ' ') #current로 저장된 노드의 데이터 출력\n",
    "    "
   ]
  },
  {
   "cell_type": "markdown",
   "id": "31a4946c",
   "metadata": {},
   "source": [
    "### 노드 삭제 : 중간 데이터 삭제\n",
    "1. 삭제할 노드의 링크를 바로 앞 노드의 링크로 복사함\n",
    "2. 삭제하고자 하는 노드를 삭제함"
   ]
  },
  {
   "cell_type": "code",
   "execution_count": 22,
   "id": "309fa80f",
   "metadata": {},
   "outputs": [
    {
     "name": "stdout",
     "output_type": "stream",
     "text": [
      "다현 정연 쯔위 사나 지효 "
     ]
    }
   ],
   "source": [
    "node2.link = newNode.link\n",
    "del newNode\n",
    "current = node1 #첫번째 노드를 current에 저장함\n",
    "print(current.data, end = ' ')\n",
    "while current.link != None: #current.link 가 None이 아닐때까지 while문 반복\n",
    "    current  = current.link #current.link를 current로 지정하며 연결된 노드를 current로 저장\n",
    "    print(current.data, end = ' ') #current로 저장된 노드의 데이터 출력\n",
    "    "
   ]
  },
  {
   "cell_type": "markdown",
   "id": "3a59160c",
   "metadata": {},
   "source": [
    "### 단순 연결 리스트의 일반 구현\n",
    "* head : 첫번째 노드를 가리킴\n",
    "* current : 현재 처리 중인 노드를 가리킴\n",
    "* pre : 현재 처리 중인 노드의 바로 앞 노드를 가리킴"
   ]
  },
  {
   "cell_type": "code",
   "execution_count": 24,
   "id": "fe232a8c",
   "metadata": {},
   "outputs": [],
   "source": [
    "memory = [] #노드가 저장되는 공간\n",
    "head, current, pre = None, None, None #초기화"
   ]
  },
  {
   "cell_type": "code",
   "execution_count": 44,
   "id": "3e9aeadc",
   "metadata": {},
   "outputs": [
    {
     "name": "stdout",
     "output_type": "stream",
     "text": [
      "다현 정연 쯔위 사나 지효 \n"
     ]
    }
   ],
   "source": [
    "class Node():\n",
    "    def __init__(self):\n",
    "        self.data = None\n",
    "        self.link = None\n",
    "    \n",
    "def printNodes(start): #노드의 데이터 순서대로 출력하는 함수, 들여쓰기 주의하기!\n",
    "    current = start\n",
    "    if current == None:\n",
    "        return\n",
    "    print(current.data, end=' ')\n",
    "    while current.link != None:\n",
    "        current = current.link\n",
    "        print(current.data, end =' ')\n",
    "    print()\n",
    "\n",
    "#전역 변수 선언\n",
    "memory = []\n",
    "head, current, pre = None, None, None\n",
    "dataArray = ['다현', '정연', '쯔위', '사나', '지효']\n",
    "\n",
    "##메인 코드\n",
    "if __name__ == \"__main__\" :\n",
    "    \n",
    "    node = Node() #노드 생성\n",
    "    node.data = dataArray[0] #데이터 입력\n",
    "    head = node #첫번째 노드 헤드에 저장\n",
    "    memory.append(node) #메모리에 노드 저장\n",
    "    \n",
    "    for data in dataArray[1:] : #두 번째 노드부터 저장할 때\n",
    "        pre = node #새로운 노드 생성 전 이전에 생성된 노드를 pre에 저장함\n",
    "        node = Node()\n",
    "        node.data = data\n",
    "        pre.link = node\n",
    "        memory.append(node)\n",
    "        \n",
    "    printNodes(head) #헤드가 start가 되는 것\n",
    "    "
   ]
  },
  {
   "cell_type": "markdown",
   "id": "41352d0a",
   "metadata": {},
   "source": [
    "### 단순 연결 리스트 : 노드 삽입 (첫 번째 노드 삽입)\n",
    "1. 새 노드를 생성\n",
    "2. 새 노드의 링크로 헤드 노드가 가리키는 노드를 지정"
   ]
  },
  {
   "cell_type": "code",
   "execution_count": 45,
   "id": "77c7493d",
   "metadata": {},
   "outputs": [
    {
     "name": "stdout",
     "output_type": "stream",
     "text": [
      "다현 정연 쯔위 사나 지효 \n"
     ]
    }
   ],
   "source": [
    "printNodes(head)"
   ]
  },
  {
   "cell_type": "code",
   "execution_count": 46,
   "id": "1e1a41db",
   "metadata": {},
   "outputs": [],
   "source": [
    "node = Node() #새로운 노드 생성\n",
    "node.data = '화사'\n",
    "node.link = head #새로운 노드의 링크에 헤드 노드를 저장\n",
    "head = node #새로운 노드를 헤드로 저장"
   ]
  },
  {
   "cell_type": "code",
   "execution_count": 47,
   "id": "2533bc45",
   "metadata": {},
   "outputs": [
    {
     "name": "stdout",
     "output_type": "stream",
     "text": [
      "화사 다현 정연 쯔위 사나 지효 \n"
     ]
    }
   ],
   "source": [
    "printNodes(head)"
   ]
  },
  {
   "cell_type": "markdown",
   "id": "285f5337",
   "metadata": {},
   "source": [
    "### 단순 연결 리스트 : 노드 삽입 (중간 삽입)\n",
    "1. 헤드에서 시작해서 현재 노드가 목표 노드인지 확인\n",
    "2. 현재 노드를 이전 노드로 지정하고, 현재 노드를 다음 노드로 이동한다. 그리고 현재 노드가 목표 노드인지 확인\n",
    "3. 현재 노드가 목표 노드일 때까지 2를 반복함\n",
    "4. 현재 노드가 목표 노드라면 우선 새 노드를 생성한 후 이전 노드의 링크를 새 노드의 링크로 지정\n",
    "5. 이전 노드의 링크를 새 노드로 지정"
   ]
  },
  {
   "cell_type": "code",
   "execution_count": 48,
   "id": "fa08988e",
   "metadata": {},
   "outputs": [
    {
     "ename": "SyntaxError",
     "evalue": "invalid syntax (<ipython-input-48-31bd5460a5f6>, line 2)",
     "output_type": "error",
     "traceback": [
      "\u001b[1;36m  File \u001b[1;32m\"<ipython-input-48-31bd5460a5f6>\"\u001b[1;36m, line \u001b[1;32m2\u001b[0m\n\u001b[1;33m    while 마지막 노드까지 :\u001b[0m\n\u001b[1;37m              ^\u001b[0m\n\u001b[1;31mSyntaxError\u001b[0m\u001b[1;31m:\u001b[0m invalid syntax\n"
     ]
    }
   ],
   "source": [
    "current = head\n",
    "while 마지막 노드까지 :\n",
    "    pre = current\n",
    "    current = current.link #다음 노드로 이동\n",
    "    if current.data == '사나' : #사나 앞에 삽입하고 싶음\n",
    "        node = Node() #새 노드 생성\n",
    "        node.data = '솔라' #데이터 삽입\n",
    "        node.link = current #사나 노드를 새로운 노드 링크에 저장\n",
    "        pre.link = node\n",
    "    "
   ]
  },
  {
   "cell_type": "markdown",
   "id": "6991695b",
   "metadata": {},
   "source": [
    "### 단순 연결 리스트 : 노드 삽입 (마지막 노드 삽입)\n",
    "1. 목표 데이터 찾기\n",
    "2. 마지막 노드까지 목표 데이터를 찾지 못했다면 새 노드를 생성 후 현재 노드의 링크를 새 노드로 지정"
   ]
  },
  {
   "cell_type": "code",
   "execution_count": 49,
   "id": "9213baae",
   "metadata": {},
   "outputs": [
    {
     "ename": "AttributeError",
     "evalue": "'NoneType' object has no attribute 'link'",
     "output_type": "error",
     "traceback": [
      "\u001b[1;31m---------------------------------------------------------------------------\u001b[0m",
      "\u001b[1;31mAttributeError\u001b[0m                            Traceback (most recent call last)",
      "\u001b[1;32m<ipython-input-49-f04068b59e80>\u001b[0m in \u001b[0;36m<module>\u001b[1;34m\u001b[0m\n\u001b[0;32m      2\u001b[0m \u001b[0mnode\u001b[0m \u001b[1;33m=\u001b[0m \u001b[0mNode\u001b[0m\u001b[1;33m(\u001b[0m\u001b[1;33m)\u001b[0m\u001b[1;33m\u001b[0m\u001b[1;33m\u001b[0m\u001b[0m\n\u001b[0;32m      3\u001b[0m \u001b[0mnode\u001b[0m \u001b[1;33m=\u001b[0m \u001b[1;34m'문별'\u001b[0m\u001b[1;33m\u001b[0m\u001b[1;33m\u001b[0m\u001b[0m\n\u001b[1;32m----> 4\u001b[1;33m \u001b[0mcurrent\u001b[0m\u001b[1;33m.\u001b[0m\u001b[0mlink\u001b[0m \u001b[1;33m=\u001b[0m \u001b[0mnode\u001b[0m\u001b[1;33m\u001b[0m\u001b[1;33m\u001b[0m\u001b[0m\n\u001b[0m",
      "\u001b[1;31mAttributeError\u001b[0m: 'NoneType' object has no attribute 'link'"
     ]
    }
   ],
   "source": [
    "# 목표 데이터 못찾음을 가정한 후 \n",
    "node = Node()\n",
    "node = '문별'\n",
    "current.link = node"
   ]
  },
  {
   "cell_type": "markdown",
   "id": "8d193b55",
   "metadata": {},
   "source": [
    "### 삽입함수 완성하기"
   ]
  },
  {
   "cell_type": "code",
   "execution_count": 53,
   "id": "4a5eb47d",
   "metadata": {},
   "outputs": [
    {
     "name": "stdout",
     "output_type": "stream",
     "text": [
      "다현 정연 쯔위 사나 지효 \n",
      "화사 다현 정연 쯔위 사나 지효 \n"
     ]
    }
   ],
   "source": [
    "class Node():\n",
    "    def __init__(self):\n",
    "        self.data = None\n",
    "        self.link = None\n",
    "    \n",
    "def printNodes(start): #노드의 데이터 순서대로 출력하는 함수, 들여쓰기 주의하기!\n",
    "    current = start\n",
    "    if current == None:\n",
    "        return\n",
    "    print(current.data, end=' ')\n",
    "    while current.link != None:\n",
    "        current = current.link\n",
    "        print(current.data, end =' ')\n",
    "    print()\n",
    "    \n",
    "def insertNode(findData, insertData):\n",
    "    global memory, pre, current, head\n",
    "    \n",
    "    if head.data == findData:\n",
    "        node = Node()\n",
    "        node.data = insertData\n",
    "        node.link = head\n",
    "        head = node\n",
    "        return\n",
    "    \n",
    "    current = head\n",
    "    while current.data != findData:\n",
    "        pre = current\n",
    "        current = current.link\n",
    "        if current.data == findData:\n",
    "            node = Node()\n",
    "            node.data = insertData\n",
    "            node.link = current\n",
    "            pre.link = node\n",
    "            return\n",
    "        \n",
    "    node = Node() #마지막 노드 삽입\n",
    "    node.data = insertData\n",
    "    current.link = node\n",
    "        \n",
    "\n",
    "#전역 변수 선언\n",
    "memory = []\n",
    "head, current, pre = None, None, None\n",
    "dataArray = ['다현', '정연', '쯔위', '사나', '지효']\n",
    "\n",
    "##메인 코드\n",
    "if __name__ == \"__main__\" :\n",
    "    \n",
    "    node = Node() #노드 생성\n",
    "    node.data = dataArray[0] #데이터 입력\n",
    "    head = node #첫번째 노드 헤드에 저장\n",
    "    memory.append(node) #메모리에 노드 저장\n",
    "    \n",
    "    for data in dataArray[1:] : #두 번째 노드부터 저장할 때\n",
    "        pre = node #새로운 노드 생성 전 이전에 생성된 노드를 pre에 저장함\n",
    "        node = Node()\n",
    "        node.data = data\n",
    "        pre.link = node\n",
    "        memory.append(node)\n",
    "        \n",
    "    printNodes(head) #헤드가 start가 되는 것\n",
    "    \n",
    "    insertNode('다현', '화사')\n",
    "    printNodes(head)"
   ]
  },
  {
   "cell_type": "markdown",
   "id": "f96b0288",
   "metadata": {},
   "source": [
    "### 노드 삭제 : 첫번째 노드 삭제\n",
    "1. 현재 노드를 삭제할 노드인 헤드와 동일하게 만듦\n",
    "2. 헤드를 삭제할 노드의 링크가 가리키던 노드로 변경\n",
    "3. 현재 노드를 메모리에서 제거함"
   ]
  },
  {
   "cell_type": "code",
   "execution_count": 54,
   "id": "48ef3690",
   "metadata": {},
   "outputs": [],
   "source": [
    "current = head\n",
    "head = head.link\n",
    "del(current)"
   ]
  },
  {
   "cell_type": "markdown",
   "id": "3580c996",
   "metadata": {},
   "source": [
    "### 노드 삭제 : 첫번쨰 노드 외 삭제\n",
    "1. 헤드에서 시작해서 현재 노드가 목표값과 같은지 확인\n",
    "2. 현재 노드를 이전 노드로 변경하고, 현재 노드를 다음 노드로 이동하며 목표값과 같은지 확인\n",
    "3. 목표값을 찾을 때까지 계속해서 반복\n",
    "4. 현재 노드가 목표값과 같다면, 이전 노드의 링크를 현재 노드의 링크로 지정\n",
    "5. 현재 노드를 메모리에서 삭제함"
   ]
  },
  {
   "cell_type": "code",
   "execution_count": 55,
   "id": "6090a00a",
   "metadata": {},
   "outputs": [
    {
     "ename": "SyntaxError",
     "evalue": "invalid syntax (<ipython-input-55-48bb63ad5ae3>, line 2)",
     "output_type": "error",
     "traceback": [
      "\u001b[1;36m  File \u001b[1;32m\"<ipython-input-55-48bb63ad5ae3>\"\u001b[1;36m, line \u001b[1;32m2\u001b[0m\n\u001b[1;33m    while 마지막 노드:\u001b[0m\n\u001b[1;37m              ^\u001b[0m\n\u001b[1;31mSyntaxError\u001b[0m\u001b[1;31m:\u001b[0m invalid syntax\n"
     ]
    }
   ],
   "source": [
    "current = head\n",
    "while 마지막 노드:\n",
    "    pre = current\n",
    "    current = current.link\n",
    "    if current.data == 목표값:\n",
    "        pre.link = current.link\n",
    "        del current"
   ]
  },
  {
   "cell_type": "markdown",
   "id": "ff1a681e",
   "metadata": {},
   "source": [
    "### 노드 삭제 함수 완성"
   ]
  },
  {
   "cell_type": "code",
   "execution_count": 57,
   "id": "ba95629c",
   "metadata": {},
   "outputs": [
    {
     "name": "stdout",
     "output_type": "stream",
     "text": [
      "다현 정연 쯔위 사나 지효 \n",
      "정연 쯔위 사나 지효 \n"
     ]
    }
   ],
   "source": [
    "\n",
    "class Node():\n",
    "    def __init__(self):\n",
    "        self.data = None\n",
    "        self.link = None\n",
    "    \n",
    "def printNodes(start): #노드의 데이터 순서대로 출력하는 함수, 들여쓰기 주의하기!\n",
    "    current = start\n",
    "    if current == None:\n",
    "        return\n",
    "    print(current.data, end=' ')\n",
    "    while current.link != None:\n",
    "        current = current.link\n",
    "        print(current.data, end =' ')\n",
    "    print()\n",
    "    \n",
    "def insertNode(findData, insertData):\n",
    "    global memory, pre, current, head\n",
    "    \n",
    "    if head.data == findData:\n",
    "        node = Node()\n",
    "        node.data = insertData\n",
    "        node.link = head\n",
    "        head = node\n",
    "        return\n",
    "    \n",
    "    current = head\n",
    "    while current.data != findData:\n",
    "        pre = current\n",
    "        current = current.link\n",
    "        if current.data == findData:\n",
    "            node = Node()\n",
    "            node.data = insertData\n",
    "            node.link = current\n",
    "            pre.link = node\n",
    "            return\n",
    "        \n",
    "    node = Node() #마지막 노드 삽입\n",
    "    node.data = insertData\n",
    "    current.link = node\n",
    "        \n",
    "def deleteNode(deleteData):\n",
    "    global memory, pre, current, head\n",
    "    \n",
    "    if head.data == deleteData:\n",
    "        current = head\n",
    "        head = head.link #헤드를 다음 노드로 재지정\n",
    "        del current\n",
    "        return\n",
    "    else:\n",
    "        current = head\n",
    "        while current.data != deleteData:\n",
    "            pre = current\n",
    "            current = current.link\n",
    "            if current.data == deleteData:\n",
    "                pre.link = current.link\n",
    "                del current\n",
    "                return\n",
    "        \n",
    "        \n",
    "\n",
    "#전역 변수 선언\n",
    "memory = []\n",
    "head, current, pre = None, None, None\n",
    "dataArray = ['다현', '정연', '쯔위', '사나', '지효']\n",
    "\n",
    "##메인 코드\n",
    "if __name__ == \"__main__\" :\n",
    "    \n",
    "    node = Node() #노드 생성\n",
    "    node.data = dataArray[0] #데이터 입력\n",
    "    head = node #첫번째 노드 헤드에 저장\n",
    "    memory.append(node) #메모리에 노드 저장\n",
    "    \n",
    "    for data in dataArray[1:] : #두 번째 노드부터 저장할 때\n",
    "        pre = node #새로운 노드 생성 전 이전에 생성된 노드를 pre에 저장함\n",
    "        node = Node()\n",
    "        node.data = data\n",
    "        pre.link = node\n",
    "        memory.append(node)\n",
    "        \n",
    "    printNodes(head) #헤드가 start가 되는 것\n",
    "    \n",
    "    deleteNode('다현')\n",
    "    printNodes(head)"
   ]
  },
  {
   "cell_type": "markdown",
   "id": "35ad821c",
   "metadata": {},
   "source": [
    "### 노드 검색\n",
    "1. 현재 노드를 첫번째 노드인 헤드와 동일하게 만들고 현재 노드가 검색할 데이터인지 비교함\n",
    "2. 검색할 데이터와 동일하다면 현재 노드를 반환\n",
    "3. 현재 노드를 다음 노드로 이동하고, 검색할 데이터와 동일하다면 현재 노드를 반환"
   ]
  },
  {
   "cell_type": "code",
   "execution_count": 59,
   "id": "5bf8a958",
   "metadata": {},
   "outputs": [
    {
     "name": "stdout",
     "output_type": "stream",
     "text": [
      "다현 정연 쯔위 사나 지효 \n",
      "다현\n"
     ]
    }
   ],
   "source": [
    "\n",
    "class Node():\n",
    "    def __init__(self):\n",
    "        self.data = None\n",
    "        self.link = None\n",
    "    \n",
    "def printNodes(start): #노드의 데이터 순서대로 출력하는 함수, 들여쓰기 주의하기!\n",
    "    current = start\n",
    "    if current == None:\n",
    "        return\n",
    "    print(current.data, end=' ')\n",
    "    while current.link != None:\n",
    "        current = current.link\n",
    "        print(current.data, end =' ')\n",
    "    print()\n",
    "    \n",
    "def insertNode(findData, insertData):\n",
    "    global memory, pre, current, head\n",
    "    \n",
    "    if head.data == findData:\n",
    "        node = Node()\n",
    "        node.data = insertData\n",
    "        node.link = head\n",
    "        head = node\n",
    "        return\n",
    "    \n",
    "    current = head\n",
    "    while current.data != findData:\n",
    "        pre = current\n",
    "        current = current.link\n",
    "        if current.data == findData:\n",
    "            node = Node()\n",
    "            node.data = insertData\n",
    "            node.link = current\n",
    "            pre.link = node\n",
    "            return\n",
    "        \n",
    "    node = Node() #마지막 노드 삽입\n",
    "    node.data = insertData\n",
    "    current.link = node\n",
    "        \n",
    "def deleteNode(deleteData):\n",
    "    global memory, pre, current, head\n",
    "    \n",
    "    if head.data == deleteData:\n",
    "        current = head\n",
    "        head = head.link #헤드를 다음 노드로 재지정\n",
    "        del current\n",
    "        return\n",
    "    else:\n",
    "        current = head\n",
    "        while current.data != deleteData:\n",
    "            pre = current\n",
    "            current = current.link\n",
    "            if current.data == deleteData:\n",
    "                pre.link = current.link\n",
    "                del current\n",
    "                return\n",
    "        \n",
    "        \n",
    "def findNode(findData):\n",
    "    global memory, pre, current, head\n",
    "    \n",
    "    current = head\n",
    "    if current.data == findData:\n",
    "        return current\n",
    "    while current.link != None:\n",
    "        current = current.link\n",
    "        if current.data == findData:\n",
    "            return current\n",
    "    return Node()\n",
    "            \n",
    "        \n",
    "#전역 변수 선언\n",
    "memory = []\n",
    "head, current, pre = None, None, None\n",
    "dataArray = ['다현', '정연', '쯔위', '사나', '지효']\n",
    "\n",
    "##메인 코드\n",
    "if __name__ == \"__main__\" :\n",
    "    \n",
    "    node = Node() #노드 생성\n",
    "    node.data = dataArray[0] #데이터 입력\n",
    "    head = node #첫번째 노드 헤드에 저장\n",
    "    memory.append(node) #메모리에 노드 저장\n",
    "    \n",
    "    for data in dataArray[1:] : #두 번째 노드부터 저장할 때\n",
    "        pre = node #새로운 노드 생성 전 이전에 생성된 노드를 pre에 저장함\n",
    "        node = Node()\n",
    "        node.data = data\n",
    "        pre.link = node\n",
    "        memory.append(node)\n",
    "        \n",
    "    printNodes(head) #헤드가 start가 되는 것\n",
    "    \n",
    "    fNode = findNode('다현')\n",
    "    print(fNode.data)\n",
    "    "
   ]
  },
  {
   "cell_type": "code",
   "execution_count": null,
   "id": "cc9af522",
   "metadata": {},
   "outputs": [],
   "source": []
  }
 ],
 "metadata": {
  "kernelspec": {
   "display_name": "Python 3",
   "language": "python",
   "name": "python3"
  },
  "language_info": {
   "codemirror_mode": {
    "name": "ipython",
    "version": 3
   },
   "file_extension": ".py",
   "mimetype": "text/x-python",
   "name": "python",
   "nbconvert_exporter": "python",
   "pygments_lexer": "ipython3",
   "version": "3.8.8"
  }
 },
 "nbformat": 4,
 "nbformat_minor": 5
}
